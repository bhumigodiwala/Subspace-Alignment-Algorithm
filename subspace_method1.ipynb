{
 "cells": [
  {
   "cell_type": "code",
   "execution_count": 1,
   "id": "d5f739fa",
   "metadata": {},
   "outputs": [],
   "source": [
    "import numpy as np\n",
    "import pandas as pd\n",
    "from scipy.io import loadmat\n",
    "from sklearn.datasets import make_classification\n",
    "from sklearn.datasets import make_blobs\n",
    "from sklearn.model_selection import train_test_split\n",
    "from matplotlib import pyplot as plt\n",
    "from sklearn.decomposition import PCA\n",
    "from sklearn.preprocessing import StandardScaler\n",
    "from sklearn.naive_bayes import GaussianNB\n",
    "from sklearn.metrics import accuracy_score\n",
    "from itertools import permutations \n",
    "from time import time\n",
    "import scipy\n",
    "import seaborn as sns"
   ]
  },
  {
   "cell_type": "code",
   "execution_count": 2,
   "id": "75e79f92",
   "metadata": {},
   "outputs": [],
   "source": [
    "# Covariance\n",
    "def cov(x, y):\n",
    "    xbar, ybar = x.mean(), y.mean()\n",
    "    return np.sum((x - xbar)*(y - ybar))/(len(x) - 1)\n",
    "\n",
    "# Covariance matrix\n",
    "def cov_mat(X):\n",
    "    return np.array([[cov(X[0], X[0]), cov(X[0], X[1])], \\\n",
    "                     [cov(X[1], X[0]), cov(X[1], X[1])]])\n",
    "\n",
    "# Estimating the mean vector.\n",
    "def mean_vec(X):\n",
    "    return np.mean(X, axis=0)"
   ]
  },
  {
   "cell_type": "markdown",
   "id": "1dae1fcd",
   "metadata": {},
   "source": [
    "# Source Dataset"
   ]
  },
  {
   "cell_type": "code",
   "execution_count": 3,
   "id": "fa6770c3",
   "metadata": {},
   "outputs": [
    {
     "data": {
      "text/html": [
       "<div>\n",
       "<style scoped>\n",
       "    .dataframe tbody tr th:only-of-type {\n",
       "        vertical-align: middle;\n",
       "    }\n",
       "\n",
       "    .dataframe tbody tr th {\n",
       "        vertical-align: top;\n",
       "    }\n",
       "\n",
       "    .dataframe thead th {\n",
       "        text-align: right;\n",
       "    }\n",
       "</style>\n",
       "<table border=\"1\" class=\"dataframe\">\n",
       "  <thead>\n",
       "    <tr style=\"text-align: right;\">\n",
       "      <th></th>\n",
       "      <th>x1</th>\n",
       "      <th>x2</th>\n",
       "      <th>y</th>\n",
       "    </tr>\n",
       "  </thead>\n",
       "  <tbody>\n",
       "    <tr>\n",
       "      <th>0</th>\n",
       "      <td>-0.150506</td>\n",
       "      <td>-0.161995</td>\n",
       "      <td>0</td>\n",
       "    </tr>\n",
       "    <tr>\n",
       "      <th>1</th>\n",
       "      <td>-0.371091</td>\n",
       "      <td>0.290842</td>\n",
       "      <td>0</td>\n",
       "    </tr>\n",
       "    <tr>\n",
       "      <th>2</th>\n",
       "      <td>-0.970196</td>\n",
       "      <td>0.059762</td>\n",
       "      <td>0</td>\n",
       "    </tr>\n",
       "    <tr>\n",
       "      <th>3</th>\n",
       "      <td>1.418143</td>\n",
       "      <td>-0.218789</td>\n",
       "      <td>0</td>\n",
       "    </tr>\n",
       "    <tr>\n",
       "      <th>4</th>\n",
       "      <td>0.860220</td>\n",
       "      <td>0.917549</td>\n",
       "      <td>0</td>\n",
       "    </tr>\n",
       "    <tr>\n",
       "      <th>...</th>\n",
       "      <td>...</td>\n",
       "      <td>...</td>\n",
       "      <td>...</td>\n",
       "    </tr>\n",
       "    <tr>\n",
       "      <th>95</th>\n",
       "      <td>2.807399</td>\n",
       "      <td>-0.093335</td>\n",
       "      <td>1</td>\n",
       "    </tr>\n",
       "    <tr>\n",
       "      <th>96</th>\n",
       "      <td>0.811895</td>\n",
       "      <td>1.362646</td>\n",
       "      <td>1</td>\n",
       "    </tr>\n",
       "    <tr>\n",
       "      <th>97</th>\n",
       "      <td>2.617401</td>\n",
       "      <td>3.359121</td>\n",
       "      <td>1</td>\n",
       "    </tr>\n",
       "    <tr>\n",
       "      <th>98</th>\n",
       "      <td>1.363158</td>\n",
       "      <td>1.645785</td>\n",
       "      <td>1</td>\n",
       "    </tr>\n",
       "    <tr>\n",
       "      <th>99</th>\n",
       "      <td>3.198388</td>\n",
       "      <td>2.716634</td>\n",
       "      <td>1</td>\n",
       "    </tr>\n",
       "  </tbody>\n",
       "</table>\n",
       "<p>100 rows × 3 columns</p>\n",
       "</div>"
      ],
      "text/plain": [
       "          x1        x2  y\n",
       "0  -0.150506 -0.161995  0\n",
       "1  -0.371091  0.290842  0\n",
       "2  -0.970196  0.059762  0\n",
       "3   1.418143 -0.218789  0\n",
       "4   0.860220  0.917549  0\n",
       "..       ...       ... ..\n",
       "95  2.807399 -0.093335  1\n",
       "96  0.811895  1.362646  1\n",
       "97  2.617401  3.359121  1\n",
       "98  1.363158  1.645785  1\n",
       "99  3.198388  2.716634  1\n",
       "\n",
       "[100 rows x 3 columns]"
      ]
     },
     "execution_count": 3,
     "metadata": {},
     "output_type": "execute_result"
    }
   ],
   "source": [
    "# Generate synthetic dataset for source data\n",
    "\n",
    "a=np.random.normal(0, 1, size=(50, 2)) \n",
    "df1 = pd.DataFrame(a, columns =['x1', 'x2'])\n",
    "df1['y'] = 0\n",
    "\n",
    "b=np.random.normal(2, 1.5, size=(50, 2)) #class 1\n",
    "df2 = pd.DataFrame(b, columns =['x1', 'x2'])\n",
    "df2['y'] = 1\n",
    "\n",
    "df_s = pd.concat([df1,df2], ignore_index=True, axis=0)\n",
    "X_s = df_s.iloc[:,:2]\n",
    "y_s = df_s['y']\n",
    "df_s"
   ]
  },
  {
   "cell_type": "markdown",
   "id": "94accff3",
   "metadata": {},
   "source": [
    "class 0 specify vector mean and vector cov\n",
    "\n",
    "https://numpy.org/doc/stable/reference/random/generator.html\n",
    "    \n",
    "https://numpy.org/doc/stable/reference/random/generated/numpy.random.multivariate_normal.html"
   ]
  },
  {
   "cell_type": "code",
   "execution_count": 4,
   "id": "1da5c5d5",
   "metadata": {},
   "outputs": [
    {
     "name": "stdout",
     "output_type": "stream",
     "text": [
      "Mean Vector for Source data: \n",
      " x1    1.109688\n",
      "x2    1.096901\n",
      "dtype: float64 \n",
      "\n",
      "Covariance matrix for Source data: \n",
      " [[ 6.59989572e-05 -3.80248263e-03]\n",
      " [-3.80248263e-03  2.19077312e-01]]\n"
     ]
    }
   ],
   "source": [
    "# Calculate mean vector for source dataset\n",
    "mu_s = mean_vec(X_s) \n",
    "\n",
    "# Calculate covariance matrix for source dataset\n",
    "cov_s = cov_mat(X_s.T) # (or with np.cov(X.T))\n",
    "\n",
    "print('Mean Vector for Source data: \\n', mu_s, '\\n')\n",
    "print('Covariance matrix for Source data: \\n', cov_s)"
   ]
  },
  {
   "cell_type": "markdown",
   "id": "76a84fdf",
   "metadata": {},
   "source": [
    "Source Covariance matrix is symmetric and positive definite"
   ]
  },
  {
   "cell_type": "code",
   "execution_count": 5,
   "id": "5c050cff",
   "metadata": {},
   "outputs": [
    {
     "data": {
      "image/png": "[encoded data removed]",
      "text/plain": [
       "<Figure size 432x288 with 1 Axes>"
      ]
     },
     "metadata": {
      "needs_background": "light"
     },
     "output_type": "display_data"
    }
   ],
   "source": [
    "X_s ,y_s = np.asarray(X_s), np.asarray(y_s)\n",
    "for class_value in range(2):\n",
    "    # get row indexes for samples with this class\n",
    "    row_ix = np.where(y_s == class_value)\n",
    "    # create scatter of these samples\n",
    "    plt.scatter(X_s[row_ix, 0], X_s[row_ix, 1])\n",
    "# show the plot\n",
    "plt.title('Source Data')\n",
    "plt.legend(['Class 0', 'Class 1'])\n",
    "plt.show()"
   ]
  },
  {
   "cell_type": "code",
   "execution_count": 6,
   "id": "811044d4",
   "metadata": {},
   "outputs": [
    {
     "data": {
      "text/plain": [
       "<seaborn.axisgrid.PairGrid at 0x7f9091d2d670>"
      ]
     },
     "execution_count": 6,
     "metadata": {},
     "output_type": "execute_result"
    },
    {
     "data": {
      "image/png": "[encoded data removed]",
      "text/plain": [
       "<Figure size 402.375x360 with 6 Axes>"
      ]
     },
     "metadata": {
      "needs_background": "light"
     },
     "output_type": "display_data"
    }
   ],
   "source": [
    "sns.pairplot(vars=[\"x1\",\"x2\"], data=df_s, hue=\"y\")"
   ]
  },
  {
   "cell_type": "markdown",
   "id": "9a91d8b5",
   "metadata": {},
   "source": [
    "# Target Dataset"
   ]
  },
  {
   "cell_type": "code",
   "execution_count": 7,
   "id": "95817db2",
   "metadata": {},
   "outputs": [
    {
     "data": {
      "text/html": [
       "<div>\n",
       "<style scoped>\n",
       "    .dataframe tbody tr th:only-of-type {\n",
       "        vertical-align: middle;\n",
       "    }\n",
       "\n",
       "    .dataframe tbody tr th {\n",
       "        vertical-align: top;\n",
       "    }\n",
       "\n",
       "    .dataframe thead th {\n",
       "        text-align: right;\n",
       "    }\n",
       "</style>\n",
       "<table border=\"1\" class=\"dataframe\">\n",
       "  <thead>\n",
       "    <tr style=\"text-align: right;\">\n",
       "      <th></th>\n",
       "      <th>x1</th>\n",
       "      <th>x2</th>\n",
       "      <th>y</th>\n",
       "    </tr>\n",
       "  </thead>\n",
       "  <tbody>\n",
       "    <tr>\n",
       "      <th>0</th>\n",
       "      <td>3.547397</td>\n",
       "      <td>5.058548</td>\n",
       "      <td>0</td>\n",
       "    </tr>\n",
       "    <tr>\n",
       "      <th>1</th>\n",
       "      <td>-0.636718</td>\n",
       "      <td>-0.974476</td>\n",
       "      <td>0</td>\n",
       "    </tr>\n",
       "    <tr>\n",
       "      <th>2</th>\n",
       "      <td>-0.550985</td>\n",
       "      <td>1.814486</td>\n",
       "      <td>0</td>\n",
       "    </tr>\n",
       "    <tr>\n",
       "      <th>3</th>\n",
       "      <td>-5.216241</td>\n",
       "      <td>2.570888</td>\n",
       "      <td>0</td>\n",
       "    </tr>\n",
       "    <tr>\n",
       "      <th>4</th>\n",
       "      <td>1.351532</td>\n",
       "      <td>0.913556</td>\n",
       "      <td>0</td>\n",
       "    </tr>\n",
       "    <tr>\n",
       "      <th>...</th>\n",
       "      <td>...</td>\n",
       "      <td>...</td>\n",
       "      <td>...</td>\n",
       "    </tr>\n",
       "    <tr>\n",
       "      <th>95</th>\n",
       "      <td>6.521660</td>\n",
       "      <td>4.036030</td>\n",
       "      <td>1</td>\n",
       "    </tr>\n",
       "    <tr>\n",
       "      <th>96</th>\n",
       "      <td>4.216413</td>\n",
       "      <td>3.585156</td>\n",
       "      <td>1</td>\n",
       "    </tr>\n",
       "    <tr>\n",
       "      <th>97</th>\n",
       "      <td>3.392062</td>\n",
       "      <td>5.099083</td>\n",
       "      <td>1</td>\n",
       "    </tr>\n",
       "    <tr>\n",
       "      <th>98</th>\n",
       "      <td>4.396747</td>\n",
       "      <td>6.008596</td>\n",
       "      <td>1</td>\n",
       "    </tr>\n",
       "    <tr>\n",
       "      <th>99</th>\n",
       "      <td>3.752009</td>\n",
       "      <td>5.437810</td>\n",
       "      <td>1</td>\n",
       "    </tr>\n",
       "  </tbody>\n",
       "</table>\n",
       "<p>100 rows × 3 columns</p>\n",
       "</div>"
      ],
      "text/plain": [
       "          x1        x2  y\n",
       "0   3.547397  5.058548  0\n",
       "1  -0.636718 -0.974476  0\n",
       "2  -0.550985  1.814486  0\n",
       "3  -5.216241  2.570888  0\n",
       "4   1.351532  0.913556  0\n",
       "..       ...       ... ..\n",
       "95  6.521660  4.036030  1\n",
       "96  4.216413  3.585156  1\n",
       "97  3.392062  5.099083  1\n",
       "98  4.396747  6.008596  1\n",
       "99  3.752009  5.437810  1\n",
       "\n",
       "[100 rows x 3 columns]"
      ]
     },
     "execution_count": 7,
     "metadata": {},
     "output_type": "execute_result"
    }
   ],
   "source": [
    "# Generate synthetic dataset for target data\n",
    "\n",
    "c=np.random.normal(1, 3, size=(50, 2)) #class 0\n",
    "df3 = pd.DataFrame(c, columns =['x1', 'x2'])\n",
    "df3['y'] = 0\n",
    "\n",
    "d=np.random.normal(4, 2, size=(50, 2)) #class 1\n",
    "df4 = pd.DataFrame(d, columns =['x1', 'x2'])\n",
    "df4['y'] = 1\n",
    "\n",
    "df_t = pd.concat([df3,df4], ignore_index=True, axis=0)\n",
    "X_t = df_t.iloc[:,:2]\n",
    "y_t = df_t['y']\n",
    "df_t"
   ]
  },
  {
   "cell_type": "code",
   "execution_count": 8,
   "id": "d2595c3c",
   "metadata": {},
   "outputs": [
    {
     "name": "stdout",
     "output_type": "stream",
     "text": [
      "Mean Vector for Target data: \n",
      " x1    2.493624\n",
      "x2    2.682632\n",
      "dtype: float64 \n",
      "\n",
      "Covariance matrix for Target data: \n",
      " [[ 1.14178895 -0.25520146]\n",
      " [-0.25520146  0.05704013]]\n"
     ]
    }
   ],
   "source": [
    "# Calculate mean vector for target dataset\n",
    "mu_t = mean_vec(X_t) \n",
    "\n",
    "# Calculate covariance matrix for target dataset\n",
    "cov_t = cov_mat(X_t.T) # (or with np.cov(X.T))\n",
    "\n",
    "print('Mean Vector for Target data: \\n', mu_t, '\\n')\n",
    "print('Covariance matrix for Target data: \\n', cov_t)\n"
   ]
  },
  {
   "cell_type": "markdown",
   "id": "26dc4a2e",
   "metadata": {},
   "source": [
    "Target Covariance matrix is symmetric and positive definite"
   ]
  },
  {
   "cell_type": "code",
   "execution_count": 9,
   "id": "39fd107c",
   "metadata": {},
   "outputs": [
    {
     "data": {
      "image/png": "[encoded data removed]",
      "text/plain": [
       "<Figure size 432x288 with 1 Axes>"
      ]
     },
     "metadata": {
      "needs_background": "light"
     },
     "output_type": "display_data"
    }
   ],
   "source": [
    "X_t, y_t = np.asarray(X_t), np.asarray(y_t)\n",
    "# create scatter plot for samples from each class\n",
    "for class_value in range(2):\n",
    "    # get row indexes for samples with this class\n",
    "    row_ix = np.where(y_t == class_value)\n",
    "    # create scatter of these samples\n",
    "    plt.scatter(X_t[row_ix, 0], X_t[row_ix, 1])\n",
    "# show the plot\n",
    "plt.title('Target Data')\n",
    "plt.legend(['Class 0', 'Class 1'])\n",
    "plt.show()"
   ]
  },
  {
   "cell_type": "code",
   "execution_count": 10,
   "id": "6664cefc",
   "metadata": {},
   "outputs": [
    {
     "data": {
      "text/plain": [
       "<seaborn.axisgrid.PairGrid at 0x7f9093696ee0>"
      ]
     },
     "execution_count": 10,
     "metadata": {},
     "output_type": "execute_result"
    },
    {
     "data": {
      "image/png": "[encoded data removed]",
      "text/plain": [
       "<Figure size 402.375x360 with 6 Axes>"
      ]
     },
     "metadata": {
      "needs_background": "light"
     },
     "output_type": "display_data"
    }
   ],
   "source": [
    "sns.pairplot(vars=[\"x1\",\"x2\"], data=df_t, hue=\"y\")"
   ]
  },
  {
   "cell_type": "code",
   "execution_count": 11,
   "id": "98be1112",
   "metadata": {},
   "outputs": [
    {
     "data": {
      "text/plain": [
       "0.5"
      ]
     },
     "execution_count": 11,
     "metadata": {},
     "output_type": "execute_result"
    }
   ],
   "source": [
    "# Probability of y\n",
    "p_y = (len(df_s[df_s['y']==0]))/len(df_s)\n",
    "p_y"
   ]
  },
  {
   "cell_type": "markdown",
   "id": "bb3b46e9",
   "metadata": {},
   "source": [
    "P(y) is same for both source and target"
   ]
  },
  {
   "cell_type": "code",
   "execution_count": 12,
   "id": "075b18fa",
   "metadata": {},
   "outputs": [],
   "source": [
    "# specify pdf functions for dataset specify covariance and then do random draws \n",
    "# use numpy.random.generate\n",
    "\n",
    "# p(x), p(y|x), p(x|y), p(y)\n",
    "# specify p(x,y)\n",
    "# We want to change p(x) and keep p(y) constant\n",
    "# cov matrix have to be symmteric and positive definite"
   ]
  },
  {
   "cell_type": "code",
   "execution_count": 13,
   "id": "20d23410",
   "metadata": {},
   "outputs": [],
   "source": [
    "class subspace:\n",
    "    def __init__(self,dataset,S,T,d):\n",
    "        self.dataset = dataset\n",
    "        self.S = S\n",
    "        self.T = T\n",
    "        self.d = d\n",
    "#         print(self.S)\n",
    "    def pca(self,x, n_components):\n",
    "        cov = np.cov(x , rowvar = False)\n",
    "        eigen_values , eigen_vectors = np.linalg.eigh(cov)\n",
    "        sorted_index = np.argsort(eigen_values)[::-1]\n",
    "        sorted_eigenvalue = eigen_values[sorted_index]\n",
    "        sorted_eigenvectors = eigen_vectors[:,sorted_index]\n",
    "        return sorted_eigenvectors[:,0:n_components]\n",
    "    def fit_predict(self):\n",
    "        #normalising the data\n",
    "        scale = StandardScaler()\n",
    "        x_S = self.S.iloc[:,:2]\n",
    "        x_T = self.T.iloc[:,:2]\n",
    "        x_T = scale.fit_transform(x_T)\n",
    "        x_S = scale.fit_transform(x_S)\n",
    "        \n",
    "#         print(x_S)\n",
    "#         print(x_T)\n",
    "        \n",
    "        y_S = self.S.iloc[:,-1]\n",
    "        y_T = self.T.iloc[:,-1]\n",
    "#         print(y_S)\n",
    "#         print(y_T)\n",
    "        \n",
    "        #pca and picking the top eigen vectors\n",
    "        xs = self.pca(x_S,self.d)\n",
    "        xt = self.pca(x_T,self.d)\n",
    "        xa = np.dot(np.dot(xs,xs.T),xt)\n",
    "        sa = np.dot(x_S,xa)\n",
    "        st = np.dot(x_T,xt)\n",
    "        \n",
    "        #gnb classifier\n",
    "        gnb = GaussianNB()\n",
    "        gnb.fit(sa,y_S)\n",
    "        labels = gnb.predict(st)\n",
    "        return accuracy_score(labels,y_T)\n",
    "    \n",
    "def gnb(dataset,S,T):\n",
    "    \n",
    "    x_S = S.iloc[:,:1]\n",
    "    x_T = S.iloc[:,:1]\n",
    "    y_S = S.iloc[:,-1]\n",
    "    y_T = T.iloc[:,-1]\n",
    "    scale = StandardScaler()\n",
    "    x_S = scale.fit_transform(x_S)\n",
    "    x_T = scale.fit_transform(x_T)\n",
    "    gnb = GaussianNB()\n",
    "    gnb.fit(x_S,y_S)\n",
    "    labels = gnb.predict(x_T)\n",
    "    return accuracy_score(labels,y_T)"
   ]
  },
  {
   "cell_type": "markdown",
   "id": "44124240",
   "metadata": {},
   "source": [
    "Plots for decision boundaries and regions on source and target after subspace alignment"
   ]
  },
  {
   "cell_type": "markdown",
   "id": "f7fadfc1",
   "metadata": {},
   "source": [
    "Test with Linear base and quadratic base \n",
    "\n",
    "Try 2-3 with different mean and covariances"
   ]
  },
  {
   "cell_type": "code",
   "execution_count": 19,
   "id": "3248f455",
   "metadata": {},
   "outputs": [],
   "source": [
    "data_list = [df_s,df_t]\n",
    "data_iter = list(permutations(data_list,2))\n",
    "# data_iter"
   ]
  },
  {
   "cell_type": "code",
   "execution_count": 15,
   "id": "b45c2c5c",
   "metadata": {
    "scrolled": false
   },
   "outputs": [],
   "source": [
    "list1 = [\"dist1\",\"dist2\"]\n",
    "index = list(permutations(list1,2))\n",
    "# print(index)\n",
    "methods = [\"subspace\",\"without subspace\"]\n",
    "data_timedf = pd.DataFrame(index=index,columns=methods)\n",
    "data_accdf = pd.DataFrame(index=index,columns=methods)\n",
    "\n",
    "for i in range(len(index)):\n",
    "    t0 = time()\n",
    "    sub = subspace(df_s,data_iter[i][0],data_iter[i][1],2)\n",
    "    data_accdf.iloc[i,0] = sub.fit_predict()*100\n",
    "    t1 = time()\n",
    "    data_timedf.iloc[i,0] = t1-t0\n",
    "    t2 = time()\n",
    "    data_accdf.iloc[i,1] = gnb(df_s,data_iter[i][0],data_iter[i][1])*100\n",
    "    t3 = time()\n",
    "    data_timedf.iloc[i,1] = t3-t2"
   ]
  },
  {
   "cell_type": "code",
   "execution_count": 16,
   "id": "cf003145",
   "metadata": {},
   "outputs": [
    {
     "data": {
      "text/html": [
       "<div>\n",
       "<style scoped>\n",
       "    .dataframe tbody tr th:only-of-type {\n",
       "        vertical-align: middle;\n",
       "    }\n",
       "\n",
       "    .dataframe tbody tr th {\n",
       "        vertical-align: top;\n",
       "    }\n",
       "\n",
       "    .dataframe thead th {\n",
       "        text-align: right;\n",
       "    }\n",
       "</style>\n",
       "<table border=\"1\" class=\"dataframe\">\n",
       "  <thead>\n",
       "    <tr style=\"text-align: right;\">\n",
       "      <th></th>\n",
       "      <th>subspace</th>\n",
       "      <th>without subspace</th>\n",
       "    </tr>\n",
       "  </thead>\n",
       "  <tbody>\n",
       "    <tr>\n",
       "      <th>(dist1, dist2)</th>\n",
       "      <td>79.0</td>\n",
       "      <td>82.0</td>\n",
       "    </tr>\n",
       "    <tr>\n",
       "      <th>(dist2, dist1)</th>\n",
       "      <td>85.0</td>\n",
       "      <td>78.0</td>\n",
       "    </tr>\n",
       "  </tbody>\n",
       "</table>\n",
       "</div>"
      ],
      "text/plain": [
       "               subspace without subspace\n",
       "(dist1, dist2)     79.0             82.0\n",
       "(dist2, dist1)     85.0             78.0"
      ]
     },
     "execution_count": 16,
     "metadata": {},
     "output_type": "execute_result"
    }
   ],
   "source": [
    "data_accdf"
   ]
  },
  {
   "cell_type": "code",
   "execution_count": 17,
   "id": "5b077096",
   "metadata": {},
   "outputs": [
    {
     "data": {
      "text/html": [
       "<div>\n",
       "<style scoped>\n",
       "    .dataframe tbody tr th:only-of-type {\n",
       "        vertical-align: middle;\n",
       "    }\n",
       "\n",
       "    .dataframe tbody tr th {\n",
       "        vertical-align: top;\n",
       "    }\n",
       "\n",
       "    .dataframe thead th {\n",
       "        text-align: right;\n",
       "    }\n",
       "</style>\n",
       "<table border=\"1\" class=\"dataframe\">\n",
       "  <thead>\n",
       "    <tr style=\"text-align: right;\">\n",
       "      <th></th>\n",
       "      <th>subspace</th>\n",
       "      <th>without subspace</th>\n",
       "    </tr>\n",
       "  </thead>\n",
       "  <tbody>\n",
       "    <tr>\n",
       "      <th>(dist1, dist2)</th>\n",
       "      <td>0.00796</td>\n",
       "      <td>0.003321</td>\n",
       "    </tr>\n",
       "    <tr>\n",
       "      <th>(dist2, dist1)</th>\n",
       "      <td>0.003577</td>\n",
       "      <td>0.00318</td>\n",
       "    </tr>\n",
       "  </tbody>\n",
       "</table>\n",
       "</div>"
      ],
      "text/plain": [
       "                subspace without subspace\n",
       "(dist1, dist2)   0.00796         0.003321\n",
       "(dist2, dist1)  0.003577          0.00318"
      ]
     },
     "execution_count": 17,
     "metadata": {},
     "output_type": "execute_result"
    }
   ],
   "source": [
    "data_timedf"
   ]
  },
  {
   "cell_type": "code",
   "execution_count": null,
   "id": "91da4499",
   "metadata": {},
   "outputs": [],
   "source": []
  },
  {
   "cell_type": "code",
   "execution_count": null,
   "id": "5dfd0b9c",
   "metadata": {},
   "outputs": [],
   "source": []
  }
 ],
 "metadata": {
  "kernelspec": {
   "display_name": "Python 3 (ipykernel)",
   "language": "python",
   "name": "python3"
  },
  "language_info": {
   "codemirror_mode": {
    "name": "ipython",
    "version": 3
   },
   "file_extension": ".py",
   "mimetype": "text/x-python",
   "name": "python",
   "nbconvert_exporter": "python",
   "pygments_lexer": "ipython3",
   "version": "3.9.7"
  }
 },
 "nbformat": 4,
 "nbformat_minor": 5
}
