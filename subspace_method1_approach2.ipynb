{
 "cells": [
  {
   "cell_type": "code",
   "execution_count": 1,
   "id": "d5f739fa",
   "metadata": {},
   "outputs": [],
   "source": [
    "import numpy as np\n",
    "import pandas as pd\n",
    "from scipy.io import loadmat\n",
    "from sklearn.datasets import make_classification\n",
    "from sklearn.datasets import make_blobs\n",
    "from sklearn.model_selection import train_test_split\n",
    "from matplotlib import pyplot as plt\n",
    "from sklearn.decomposition import PCA\n",
    "from sklearn import svm\n",
    "from sklearn.preprocessing import StandardScaler\n",
    "from sklearn.naive_bayes import GaussianNB\n",
    "from sklearn.linear_model import SGDClassifier, RidgeClassifier\n",
    "from sklearn.neighbors import KNeighborsClassifier\n",
    "from sklearn.ensemble import RandomForestClassifier\n",
    "from sklearn.metrics import accuracy_score\n",
    "from itertools import permutations \n",
    "from time import time\n",
    "import scipy\n",
    "import seaborn as sns\n",
    "from mlxtend.plotting import plot_decision_regions\n",
    "\n",
    "import warnings\n",
    "warnings.filterwarnings('ignore')"
   ]
  },
  {
   "cell_type": "markdown",
   "id": "1dae1fcd",
   "metadata": {},
   "source": [
    "# Source Dataset"
   ]
  },
  {
   "cell_type": "code",
   "execution_count": 2,
   "id": "fa6770c3",
   "metadata": {},
   "outputs": [
    {
     "data": {
      "text/html": [
       "<div>\n",
       "<style scoped>\n",
       "    .dataframe tbody tr th:only-of-type {\n",
       "        vertical-align: middle;\n",
       "    }\n",
       "\n",
       "    .dataframe tbody tr th {\n",
       "        vertical-align: top;\n",
       "    }\n",
       "\n",
       "    .dataframe thead th {\n",
       "        text-align: right;\n",
       "    }\n",
       "</style>\n",
       "<table border=\"1\" class=\"dataframe\">\n",
       "  <thead>\n",
       "    <tr style=\"text-align: right;\">\n",
       "      <th></th>\n",
       "      <th>x1</th>\n",
       "      <th>x2</th>\n",
       "      <th>y</th>\n",
       "    </tr>\n",
       "  </thead>\n",
       "  <tbody>\n",
       "    <tr>\n",
       "      <th>0</th>\n",
       "      <td>1.203675</td>\n",
       "      <td>-2.596685</td>\n",
       "      <td>0</td>\n",
       "    </tr>\n",
       "    <tr>\n",
       "      <th>1</th>\n",
       "      <td>0.317236</td>\n",
       "      <td>14.968681</td>\n",
       "      <td>0</td>\n",
       "    </tr>\n",
       "    <tr>\n",
       "      <th>2</th>\n",
       "      <td>-0.489550</td>\n",
       "      <td>5.141342</td>\n",
       "      <td>0</td>\n",
       "    </tr>\n",
       "    <tr>\n",
       "      <th>3</th>\n",
       "      <td>-0.900361</td>\n",
       "      <td>-8.141207</td>\n",
       "      <td>0</td>\n",
       "    </tr>\n",
       "    <tr>\n",
       "      <th>4</th>\n",
       "      <td>0.929205</td>\n",
       "      <td>-8.984313</td>\n",
       "      <td>0</td>\n",
       "    </tr>\n",
       "    <tr>\n",
       "      <th>...</th>\n",
       "      <td>...</td>\n",
       "      <td>...</td>\n",
       "      <td>...</td>\n",
       "    </tr>\n",
       "    <tr>\n",
       "      <th>95</th>\n",
       "      <td>6.386107</td>\n",
       "      <td>6.643199</td>\n",
       "      <td>1</td>\n",
       "    </tr>\n",
       "    <tr>\n",
       "      <th>96</th>\n",
       "      <td>14.899837</td>\n",
       "      <td>3.148268</td>\n",
       "      <td>1</td>\n",
       "    </tr>\n",
       "    <tr>\n",
       "      <th>97</th>\n",
       "      <td>10.472088</td>\n",
       "      <td>2.937489</td>\n",
       "      <td>1</td>\n",
       "    </tr>\n",
       "    <tr>\n",
       "      <th>98</th>\n",
       "      <td>-3.193225</td>\n",
       "      <td>-7.082573</td>\n",
       "      <td>1</td>\n",
       "    </tr>\n",
       "    <tr>\n",
       "      <th>99</th>\n",
       "      <td>4.486195</td>\n",
       "      <td>5.553882</td>\n",
       "      <td>1</td>\n",
       "    </tr>\n",
       "  </tbody>\n",
       "</table>\n",
       "<p>100 rows × 3 columns</p>\n",
       "</div>"
      ],
      "text/plain": [
       "           x1         x2  y\n",
       "0    1.203675  -2.596685  0\n",
       "1    0.317236  14.968681  0\n",
       "2   -0.489550   5.141342  0\n",
       "3   -0.900361  -8.141207  0\n",
       "4    0.929205  -8.984313  0\n",
       "..        ...        ... ..\n",
       "95   6.386107   6.643199  1\n",
       "96  14.899837   3.148268  1\n",
       "97  10.472088   2.937489  1\n",
       "98  -3.193225  -7.082573  1\n",
       "99   4.486195   5.553882  1\n",
       "\n",
       "[100 rows x 3 columns]"
      ]
     },
     "execution_count": 2,
     "metadata": {},
     "output_type": "execute_result"
    }
   ],
   "source": [
    "# Generate synthetic dataset for source data\n",
    "size = 50\n",
    "a_mean, a_cov = [0,1], [[1,0],[0,100]]\n",
    "b_mean, b_cov = [3,2], [[25,0],[0,16]]\n",
    "\n",
    "# size = 50\n",
    "# a_mean, a_cov = [0,0], [[1,0],[0,1]]\n",
    "# b_mean, b_cov = [5,3], [[4,0],[0,4]]\n",
    "\n",
    "# Class 0\n",
    "a=np.random.default_rng(seed=20).multivariate_normal(a_mean, a_cov, size) \n",
    "df1 = pd.DataFrame(a, columns =['x1', 'x2'])\n",
    "df1['y'] = 0\n",
    "\n",
    "# Class 1\n",
    "b=np.random.default_rng(seed=20).multivariate_normal(b_mean, b_cov, size)\n",
    "df2 = pd.DataFrame(b, columns =['x1', 'x2'])\n",
    "df2['y'] = 1\n",
    "\n",
    "df_s = pd.concat([df1,df2], ignore_index=True, axis=0)\n",
    "X_s = df_s.iloc[:,:2]\n",
    "y_s = df_s['y']\n",
    "df_s"
   ]
  },
  {
   "cell_type": "markdown",
   "id": "94accff3",
   "metadata": {},
   "source": [
    "class 0 specify vector mean and vector cov\n",
    "\n",
    "https://numpy.org/doc/stable/reference/random/generator.html\n",
    "    \n",
    "https://numpy.org/doc/stable/reference/random/generated/numpy.random.multivariate_normal.html"
   ]
  },
  {
   "cell_type": "code",
   "execution_count": 3,
   "id": "1da5c5d5",
   "metadata": {},
   "outputs": [
    {
     "name": "stdout",
     "output_type": "stream",
     "text": [
      "Mean Vector for Source data: \n",
      " x1    1.171662\n",
      "x2    0.525536\n",
      "dtype: float64 \n",
      "\n",
      "Covariance matrix for Source data: \n",
      "\n"
     ]
    },
    {
     "data": {
      "text/html": [
       "<div>\n",
       "<style scoped>\n",
       "    .dataframe tbody tr th:only-of-type {\n",
       "        vertical-align: middle;\n",
       "    }\n",
       "\n",
       "    .dataframe tbody tr th {\n",
       "        vertical-align: top;\n",
       "    }\n",
       "\n",
       "    .dataframe thead th {\n",
       "        text-align: right;\n",
       "    }\n",
       "</style>\n",
       "<table border=\"1\" class=\"dataframe\">\n",
       "  <thead>\n",
       "    <tr style=\"text-align: right;\">\n",
       "      <th></th>\n",
       "      <th>x1</th>\n",
       "      <th>x2</th>\n",
       "    </tr>\n",
       "  </thead>\n",
       "  <tbody>\n",
       "    <tr>\n",
       "      <th>x1</th>\n",
       "      <td>17.388276</td>\n",
       "      <td>2.377279</td>\n",
       "    </tr>\n",
       "    <tr>\n",
       "      <th>x2</th>\n",
       "      <td>2.377279</td>\n",
       "      <td>69.392422</td>\n",
       "    </tr>\n",
       "  </tbody>\n",
       "</table>\n",
       "</div>"
      ],
      "text/plain": [
       "           x1         x2\n",
       "x1  17.388276   2.377279\n",
       "x2   2.377279  69.392422"
      ]
     },
     "metadata": {},
     "output_type": "display_data"
    }
   ],
   "source": [
    "# Calculate mean vector for source dataset\n",
    "print('Mean Vector for Source data: \\n', df_s.iloc[:,:2].mean(), '\\n')\n",
    "# Calculate covariance matrix for source dataset\n",
    "print('Covariance matrix for Source data: \\n')\n",
    "display(df_s.iloc[:,:2].cov())"
   ]
  },
  {
   "cell_type": "markdown",
   "id": "76a84fdf",
   "metadata": {},
   "source": [
    "Source Covariance matrix is symmetric and positive definite"
   ]
  },
  {
   "cell_type": "code",
   "execution_count": 4,
   "id": "811044d4",
   "metadata": {},
   "outputs": [
    {
     "data": {
      "text/plain": [
       "<seaborn.axisgrid.PairGrid at 0x7f9608d148e0>"
      ]
     },
     "execution_count": 4,
     "metadata": {},
     "output_type": "execute_result"
    },
    {
     "data": {
      "image/png": "[encoded data removed]",
      "text/plain": [
       "<Figure size 402.375x360 with 6 Axes>"
      ]
     },
     "metadata": {
      "needs_background": "light"
     },
     "output_type": "display_data"
    }
   ],
   "source": [
    "sns.pairplot(vars=[\"x1\",\"x2\"], data=df_s, hue=\"y\")"
   ]
  },
  {
   "cell_type": "markdown",
   "id": "9a91d8b5",
   "metadata": {},
   "source": [
    "# Target Dataset"
   ]
  },
  {
   "cell_type": "code",
   "execution_count": 5,
   "id": "95817db2",
   "metadata": {},
   "outputs": [
    {
     "data": {
      "text/html": [
       "<div>\n",
       "<style scoped>\n",
       "    .dataframe tbody tr th:only-of-type {\n",
       "        vertical-align: middle;\n",
       "    }\n",
       "\n",
       "    .dataframe tbody tr th {\n",
       "        vertical-align: top;\n",
       "    }\n",
       "\n",
       "    .dataframe thead th {\n",
       "        text-align: right;\n",
       "    }\n",
       "</style>\n",
       "<table border=\"1\" class=\"dataframe\">\n",
       "  <thead>\n",
       "    <tr style=\"text-align: right;\">\n",
       "      <th></th>\n",
       "      <th>x1</th>\n",
       "      <th>x2</th>\n",
       "      <th>y</th>\n",
       "    </tr>\n",
       "  </thead>\n",
       "  <tbody>\n",
       "    <tr>\n",
       "      <th>0</th>\n",
       "      <td>6.407350</td>\n",
       "      <td>1.561326</td>\n",
       "      <td>0</td>\n",
       "    </tr>\n",
       "    <tr>\n",
       "      <th>1</th>\n",
       "      <td>4.634472</td>\n",
       "      <td>8.587472</td>\n",
       "      <td>0</td>\n",
       "    </tr>\n",
       "    <tr>\n",
       "      <th>2</th>\n",
       "      <td>3.020900</td>\n",
       "      <td>4.656537</td>\n",
       "      <td>0</td>\n",
       "    </tr>\n",
       "    <tr>\n",
       "      <th>3</th>\n",
       "      <td>2.199279</td>\n",
       "      <td>-0.656483</td>\n",
       "      <td>0</td>\n",
       "    </tr>\n",
       "    <tr>\n",
       "      <th>4</th>\n",
       "      <td>5.858410</td>\n",
       "      <td>-0.993725</td>\n",
       "      <td>0</td>\n",
       "    </tr>\n",
       "    <tr>\n",
       "      <th>...</th>\n",
       "      <td>...</td>\n",
       "      <td>...</td>\n",
       "      <td>...</td>\n",
       "    </tr>\n",
       "    <tr>\n",
       "      <th>95</th>\n",
       "      <td>5.482399</td>\n",
       "      <td>5.063329</td>\n",
       "      <td>1</td>\n",
       "    </tr>\n",
       "    <tr>\n",
       "      <th>96</th>\n",
       "      <td>2.861201</td>\n",
       "      <td>15.279804</td>\n",
       "      <td>1</td>\n",
       "    </tr>\n",
       "    <tr>\n",
       "      <th>97</th>\n",
       "      <td>2.703117</td>\n",
       "      <td>9.966505</td>\n",
       "      <td>1</td>\n",
       "    </tr>\n",
       "    <tr>\n",
       "      <th>98</th>\n",
       "      <td>-4.811930</td>\n",
       "      <td>-6.431870</td>\n",
       "      <td>1</td>\n",
       "    </tr>\n",
       "    <tr>\n",
       "      <th>99</th>\n",
       "      <td>4.665412</td>\n",
       "      <td>2.783434</td>\n",
       "      <td>1</td>\n",
       "    </tr>\n",
       "  </tbody>\n",
       "</table>\n",
       "<p>100 rows × 3 columns</p>\n",
       "</div>"
      ],
      "text/plain": [
       "          x1         x2  y\n",
       "0   6.407350   1.561326  0\n",
       "1   4.634472   8.587472  0\n",
       "2   3.020900   4.656537  0\n",
       "3   2.199279  -0.656483  0\n",
       "4   5.858410  -0.993725  0\n",
       "..       ...        ... ..\n",
       "95  5.482399   5.063329  1\n",
       "96  2.861201  15.279804  1\n",
       "97  2.703117   9.966505  1\n",
       "98 -4.811930  -6.431870  1\n",
       "99  4.665412   2.783434  1\n",
       "\n",
       "[100 rows x 3 columns]"
      ]
     },
     "execution_count": 5,
     "metadata": {},
     "output_type": "execute_result"
    }
   ],
   "source": [
    "# Generate synthetic dataset for target data\n",
    "size = 50\n",
    "c_mean, c_cov = [4,3], [[4,0],[0,16]]\n",
    "d_mean, d_cov = [2,1], [[9,0],[0,36]]\n",
    "\n",
    "# size = 50\n",
    "# c_mean, c_cov = [4,4], [[2,0],[0,2]]\n",
    "# d_mean, d_cov = [0,1], [[4,0],[0,4]]\n",
    "\n",
    "# Class 0\n",
    "c=np.random.default_rng(seed=20).multivariate_normal(c_mean, c_cov, size) \n",
    "df3 = pd.DataFrame(c, columns =['x1', 'x2'])\n",
    "df3['y'] = 0\n",
    "\n",
    "# Class 1\n",
    "d=np.random.default_rng(seed=20).multivariate_normal(d_mean, d_cov, size) \n",
    "df4 = pd.DataFrame(d, columns =['x1', 'x2'])\n",
    "df4['y'] = 1\n",
    "\n",
    "df_t = pd.concat([df3,df4], ignore_index=True, axis=0)\n",
    "X_t = df_t.iloc[:,:2]\n",
    "y_t = df_t['y']\n",
    "df_t"
   ]
  },
  {
   "cell_type": "code",
   "execution_count": 6,
   "id": "d2595c3c",
   "metadata": {},
   "outputs": [
    {
     "name": "stdout",
     "output_type": "stream",
     "text": [
      "Mean Vector for Target data: \n",
      " x1    2.205530\n",
      "x2    1.661112\n",
      "dtype: float64 \n",
      "\n",
      "Covariance matrix for Target data: \n",
      "\n"
     ]
    },
    {
     "data": {
      "text/html": [
       "<div>\n",
       "<style scoped>\n",
       "    .dataframe tbody tr th:only-of-type {\n",
       "        vertical-align: middle;\n",
       "    }\n",
       "\n",
       "    .dataframe tbody tr th {\n",
       "        vertical-align: top;\n",
       "    }\n",
       "\n",
       "    .dataframe thead th {\n",
       "        text-align: right;\n",
       "    }\n",
       "</style>\n",
       "<table border=\"1\" class=\"dataframe\">\n",
       "  <thead>\n",
       "    <tr style=\"text-align: right;\">\n",
       "      <th></th>\n",
       "      <th>x1</th>\n",
       "      <th>x2</th>\n",
       "    </tr>\n",
       "  </thead>\n",
       "  <tbody>\n",
       "    <tr>\n",
       "      <th>x1</th>\n",
       "      <td>10.847733</td>\n",
       "      <td>3.045152</td>\n",
       "    </tr>\n",
       "    <tr>\n",
       "      <th>x2</th>\n",
       "      <td>3.045152</td>\n",
       "      <td>31.139689</td>\n",
       "    </tr>\n",
       "  </tbody>\n",
       "</table>\n",
       "</div>"
      ],
      "text/plain": [
       "           x1         x2\n",
       "x1  10.847733   3.045152\n",
       "x2   3.045152  31.139689"
      ]
     },
     "metadata": {},
     "output_type": "display_data"
    }
   ],
   "source": [
    "# Calculate mean vector for target dataset\n",
    "print('Mean Vector for Target data: \\n', df_t.iloc[:,:2].mean(), '\\n')\n",
    "\n",
    "# Calculate covariance matrix for target dataset\n",
    "print('Covariance matrix for Target data: \\n')\n",
    "display(df_t.iloc[:,:2].cov())"
   ]
  },
  {
   "cell_type": "code",
   "execution_count": 7,
   "id": "5c050cff",
   "metadata": {},
   "outputs": [
    {
     "data": {
      "image/png": "[encoded data removed]",
      "text/plain": [
       "<Figure size 432x288 with 1 Axes>"
      ]
     },
     "metadata": {
      "needs_background": "light"
     },
     "output_type": "display_data"
    }
   ],
   "source": [
    "X_s ,y_s = np.asarray(X_s), np.asarray(y_s)\n",
    "for class_value in range(2):\n",
    "    # get row indexes for samples with this class\n",
    "    row_ix = np.where(y_s == class_value)\n",
    "    # create scatter of these samples\n",
    "    plt.scatter(X_s[row_ix, 0], X_s[row_ix, 1])\n",
    "# show the plot\n",
    "plt.title('Source Data')\n",
    "plt.legend(['Class 0', 'Class 1'])\n",
    "plt.show()"
   ]
  },
  {
   "cell_type": "markdown",
   "id": "26dc4a2e",
   "metadata": {},
   "source": [
    "Target Covariance matrix is symmetric and positive definite"
   ]
  },
  {
   "cell_type": "code",
   "execution_count": 8,
   "id": "39fd107c",
   "metadata": {},
   "outputs": [
    {
     "data": {
      "image/png": "[encoded data removed]",
      "text/plain": [
       "<Figure size 432x288 with 1 Axes>"
      ]
     },
     "metadata": {
      "needs_background": "light"
     },
     "output_type": "display_data"
    }
   ],
   "source": [
    "X_t, y_t = np.asarray(X_t), np.asarray(y_t)\n",
    "# create scatter plot for samples from each class\n",
    "for class_value in range(2):\n",
    "    # get row indexes for samples with this class\n",
    "    row_ix = np.where(y_t == class_value)\n",
    "    # create scatter of these samples\n",
    "    plt.scatter(X_t[row_ix, 0], X_t[row_ix, 1])\n",
    "# show the plot\n",
    "plt.title('Target Data')\n",
    "plt.legend(['Class 0', 'Class 1'])\n",
    "plt.show()"
   ]
  },
  {
   "cell_type": "code",
   "execution_count": 9,
   "id": "6664cefc",
   "metadata": {},
   "outputs": [
    {
     "data": {
      "text/plain": [
       "<seaborn.axisgrid.PairGrid at 0x7f95f8546790>"
      ]
     },
     "execution_count": 9,
     "metadata": {},
     "output_type": "execute_result"
    },
    {
     "data": {
      "image/png": "[encoded data removed]",
      "text/plain": [
       "<Figure size 402.375x360 with 6 Axes>"
      ]
     },
     "metadata": {
      "needs_background": "light"
     },
     "output_type": "display_data"
    }
   ],
   "source": [
    "sns.pairplot(vars=[\"x1\",\"x2\"], data=df_t, hue=\"y\")"
   ]
  },
  {
   "cell_type": "code",
   "execution_count": 10,
   "id": "98be1112",
   "metadata": {},
   "outputs": [
    {
     "data": {
      "text/plain": [
       "0.5"
      ]
     },
     "execution_count": 10,
     "metadata": {},
     "output_type": "execute_result"
    }
   ],
   "source": [
    "# Probability of y\n",
    "p_y = (len(df_s[df_s['y']==0]))/len(df_s)\n",
    "p_y"
   ]
  },
  {
   "cell_type": "markdown",
   "id": "bb3b46e9",
   "metadata": {},
   "source": [
    "P(y) is same for both source and target"
   ]
  },
  {
   "cell_type": "code",
   "execution_count": 11,
   "id": "20d23410",
   "metadata": {},
   "outputs": [],
   "source": [
    "class subspace:\n",
    "    def __init__(self,clf,S,T,d):\n",
    "        self.S = S\n",
    "        self.T = T\n",
    "        self.d = d\n",
    "#         print(self.S)\n",
    "    def pca(self,x, n_components):\n",
    "        cov = np.cov(x , rowvar = False)\n",
    "        eigen_values , eigen_vectors = np.linalg.eigh(cov)\n",
    "#         print('eignevec', eigen_vectors,'\\n','eigen_values',eigen_values,'\\n')\n",
    "        sorted_index = np.argsort(eigen_values)[::-1]\n",
    "        sorted_eigenvalue = eigen_values[sorted_index]\n",
    "        sorted_eigenvectors = eigen_vectors[:,sorted_index]\n",
    "        return sorted_eigenvectors[:,0:n_components]\n",
    "    def fit_predict(self):\n",
    "        #normalising the data\n",
    "        scale = StandardScaler()\n",
    "        x_S = self.S.iloc[:,:2]\n",
    "        x_T = self.T.iloc[:,:2]\n",
    "        x_T = scale.fit_transform(x_T)\n",
    "        x_S = scale.fit_transform(x_S)\n",
    "        \n",
    "#         print(x_S)\n",
    "#         print(x_T)\n",
    "        \n",
    "        y_S = self.S.iloc[:,-1]\n",
    "        y_T = self.T.iloc[:,-1]\n",
    "#         print(y_S)\n",
    "#         print(y_T)\n",
    "        \n",
    "        #pca and picking the top eigen vectors\n",
    "        xs = self.pca(x_S,self.d)\n",
    "        xt = self.pca(x_T,self.d)\n",
    "        xa = np.dot(np.dot(xs,xs.T),xt)\n",
    "        sa = np.dot(x_S,xa)\n",
    "        st = np.dot(x_T,xt)\n",
    "        fig, ax = plt.subplots()\n",
    "        \n",
    "        # create scatter plot for Subspace aligned dataset\n",
    "        for class_value in range(2):\n",
    "            # get row indexes for samples with this class\n",
    "            row_ix = np.where(y_t == class_value)\n",
    "            # create scatter of these samples\n",
    "            plt.scatter(sa[row_ix, 0], sa[row_ix, 1])\n",
    "        # show the plot\n",
    "        plt.title('Subspace Aligned Data')\n",
    "        plt.legend(['Class 0', 'Class 1'])\n",
    "        plt.show()\n",
    "        \n",
    "        #GNB\n",
    "        if clf =='gnb':\n",
    "            model = GaussianNB()\n",
    "            model.fit(sa,y_S)\n",
    "            labels = model.predict(st)\n",
    "\n",
    "        #KNN\n",
    "        elif clf == 'knn':\n",
    "            model=KNeighborsClassifier()\n",
    "            model.fit(sa,y_S)\n",
    "            labels = model.predict(st)\n",
    "\n",
    "        #SGD\n",
    "        elif clf == 'sgd':\n",
    "            model = SGDClassifier()\n",
    "            model.fit(sa,y_S)\n",
    "            labels = model.predict(st)\n",
    "            \n",
    "        #Random Forest\n",
    "        elif clf == 'rf':\n",
    "            model = RandomForestClassifier()\n",
    "            model.fit(sa,y_S)\n",
    "            labels = model.predict(st)\n",
    "        \n",
    "        #SVM\n",
    "        elif clf == 'svm':\n",
    "            model = svm.SVC()\n",
    "            model.fit(sa,y_S)\n",
    "#             labels = model.predict(sa)\n",
    "            labels = model.predict(st)\n",
    "            \n",
    "        \n",
    "        #Ridge Classifier\n",
    "        elif clf == 'ridge':\n",
    "            model = RidgeClassifier()\n",
    "            model.fit(sa,y_S)\n",
    "            labels = model.predict(st)\n",
    "            \n",
    "        fig, ax = plt.subplots()\n",
    "        title = ('Decision surface with SA')\n",
    "        \n",
    "        \n",
    "#         plot_decision_regions(sa, np.asarray(labels),model,legend=2)\n",
    "        plot_decision_regions(st, np.asarray(labels),model,legend=2)\n",
    "        \n",
    "\n",
    "        ax.set_ylabel('y label')\n",
    "        ax.set_xlabel('x label')\n",
    "        ax.set_xticks(())\n",
    "        ax.set_yticks(())\n",
    "        ax.set_title(title)\n",
    "        plt.show()\n",
    "        \n",
    "        return accuracy_score(labels,y_T)\n",
    "    \n"
   ]
  },
  {
   "cell_type": "code",
   "execution_count": 12,
   "id": "19ebac1c",
   "metadata": {},
   "outputs": [],
   "source": [
    "def classifier(clf,S,T):\n",
    "    \n",
    "    x_S = S.iloc[:,:2]\n",
    "    x_T = S.iloc[:,:2]\n",
    "    y_S = S.iloc[:,-1]\n",
    "    y_T = T.iloc[:,-1]\n",
    "    scale = StandardScaler()\n",
    "    x_S = scale.fit_transform(x_S)\n",
    "    x_T = scale.fit_transform(x_T)\n",
    "    \n",
    "    #GNB\n",
    "    if clf =='gnb':\n",
    "        model = GaussianNB()\n",
    "        model.fit(x_S,y_S)\n",
    "        labels = model.predict(x_T)\n",
    "\n",
    "    #KNN\n",
    "    elif clf == 'knn':\n",
    "        model=KNeighborsClassifier()\n",
    "        model.fit(x_S,y_S)\n",
    "        labels = model.predict(x_T)\n",
    "    \n",
    "    #SGD\n",
    "    elif clf == 'sgd':\n",
    "        model = SGDClassifier()\n",
    "        model.fit(x_S,y_S)\n",
    "        labels = model.predict(x_T)\n",
    "    \n",
    "    #Random Forest\n",
    "    elif clf == 'rf':\n",
    "        model = RandomForestClassifier()\n",
    "        model.fit(x_S,y_S)\n",
    "        labels = model.predict(x_T)\n",
    "        \n",
    "    #SVM\n",
    "    elif clf == 'svm':\n",
    "        model = svm.SVC()\n",
    "        model.fit(x_S,y_S)\n",
    "#         labels = model.predict(x_S)\n",
    "        labels = model.predict(x_T)\n",
    "        \n",
    "        \n",
    "    #Ridge Classifier\n",
    "    elif clf == 'ridge':\n",
    "        model = RidgeClassifier()\n",
    "        model.fit(x_S,y_S)\n",
    "        labels = model.predict(x_T)\n",
    "        \n",
    "        \n",
    "    \n",
    "    fig, ax = plt.subplots()\n",
    "    title = ('Decision surface without SA')\n",
    "#     plot_decision_regions(x_S, np.asarray(labels),clf=model,legend=2)\n",
    "    plot_decision_regions(x_T, np.asarray(labels),model,legend=2)\n",
    "    \n",
    "    ax.set_ylabel('y label')\n",
    "    ax.set_xlabel('x label')\n",
    "    ax.set_xticks(())\n",
    "    ax.set_yticks(())\n",
    "    ax.set_title(title)\n",
    "    plt.show()\n",
    "    \n",
    "    \n",
    "    \n",
    "    return accuracy_score(labels,y_T)"
   ]
  },
  {
   "cell_type": "markdown",
   "id": "44124240",
   "metadata": {},
   "source": [
    "Plots for decision boundaries and regions on source and target after subspace alignment"
   ]
  },
  {
   "cell_type": "markdown",
   "id": "f7fadfc1",
   "metadata": {},
   "source": [
    "Test with Linear base and quadratic base \n",
    "\n",
    "Try 2-3 with different mean and covariances"
   ]
  },
  {
   "cell_type": "code",
   "execution_count": 13,
   "id": "3248f455",
   "metadata": {},
   "outputs": [],
   "source": [
    "data_list = [df_s,df_t]\n",
    "data_iter = list(permutations(data_list,2))\n",
    "# data_iter"
   ]
  },
  {
   "cell_type": "code",
   "execution_count": 14,
   "id": "b45c2c5c",
   "metadata": {
    "scrolled": false
   },
   "outputs": [
    {
     "name": "stdout",
     "output_type": "stream",
     "text": [
      "Enter the type of classifier: svm\n",
      "dist1 -> dist2\n"
     ]
    },
    {
     "data": {
      "image/png": "[encoded data removed]",
      "text/plain": [
       "<Figure size 432x288 with 1 Axes>"
      ]
     },
     "metadata": {
      "needs_background": "light"
     },
     "output_type": "display_data"
    },
    {
     "data": {
      "image/png": "[encoded data removed]",
      "text/plain": [
       "<Figure size 432x288 with 1 Axes>"
      ]
     },
     "metadata": {},
     "output_type": "display_data"
    },
    {
     "data": {
      "image/png": "[encoded data removed]",
      "text/plain": [
       "<Figure size 432x288 with 1 Axes>"
      ]
     },
     "metadata": {},
     "output_type": "display_data"
    },
    {
     "name": "stdout",
     "output_type": "stream",
     "text": [
      "dist2 -> dist1\n"
     ]
    },
    {
     "data": {
      "image/png": "[encoded data removed]",
      "text/plain": [
       "<Figure size 432x288 with 1 Axes>"
      ]
     },
     "metadata": {
      "needs_background": "light"
     },
     "output_type": "display_data"
    },
    {
     "data": {
      "image/png": "[encoded data removed]",
      "text/plain": [
       "<Figure size 432x288 with 1 Axes>"
      ]
     },
     "metadata": {},
     "output_type": "display_data"
    },
    {
     "data": {
      "image/png": "[encoded data removed]",
      "text/plain": [
       "<Figure size 432x288 with 1 Axes>"
      ]
     },
     "metadata": {},
     "output_type": "display_data"
    },
    {
     "name": "stdout",
     "output_type": "stream",
     "text": [
      "Accuracy: \n"
     ]
    },
    {
     "data": {
      "text/html": [
       "<div>\n",
       "<style scoped>\n",
       "    .dataframe tbody tr th:only-of-type {\n",
       "        vertical-align: middle;\n",
       "    }\n",
       "\n",
       "    .dataframe tbody tr th {\n",
       "        vertical-align: top;\n",
       "    }\n",
       "\n",
       "    .dataframe thead th {\n",
       "        text-align: right;\n",
       "    }\n",
       "</style>\n",
       "<table border=\"1\" class=\"dataframe\">\n",
       "  <thead>\n",
       "    <tr style=\"text-align: right;\">\n",
       "      <th></th>\n",
       "      <th>subspace</th>\n",
       "      <th>without subspace</th>\n",
       "    </tr>\n",
       "  </thead>\n",
       "  <tbody>\n",
       "    <tr>\n",
       "      <th>(dist1, dist2)</th>\n",
       "      <td>40.0</td>\n",
       "      <td>86.0</td>\n",
       "    </tr>\n",
       "    <tr>\n",
       "      <th>(dist2, dist1)</th>\n",
       "      <td>29.0</td>\n",
       "      <td>71.0</td>\n",
       "    </tr>\n",
       "  </tbody>\n",
       "</table>\n",
       "</div>"
      ],
      "text/plain": [
       "               subspace without subspace\n",
       "(dist1, dist2)     40.0             86.0\n",
       "(dist2, dist1)     29.0             71.0"
      ]
     },
     "metadata": {},
     "output_type": "display_data"
    },
    {
     "name": "stdout",
     "output_type": "stream",
     "text": [
      "Time elapsed: \n"
     ]
    },
    {
     "data": {
      "text/html": [
       "<div>\n",
       "<style scoped>\n",
       "    .dataframe tbody tr th:only-of-type {\n",
       "        vertical-align: middle;\n",
       "    }\n",
       "\n",
       "    .dataframe tbody tr th {\n",
       "        vertical-align: top;\n",
       "    }\n",
       "\n",
       "    .dataframe thead th {\n",
       "        text-align: right;\n",
       "    }\n",
       "</style>\n",
       "<table border=\"1\" class=\"dataframe\">\n",
       "  <thead>\n",
       "    <tr style=\"text-align: right;\">\n",
       "      <th></th>\n",
       "      <th>subspace</th>\n",
       "      <th>without subspace</th>\n",
       "    </tr>\n",
       "  </thead>\n",
       "  <tbody>\n",
       "    <tr>\n",
       "      <th>(dist1, dist2)</th>\n",
       "      <td>0.784334</td>\n",
       "      <td>0.660379</td>\n",
       "    </tr>\n",
       "    <tr>\n",
       "      <th>(dist2, dist1)</th>\n",
       "      <td>0.948789</td>\n",
       "      <td>0.872042</td>\n",
       "    </tr>\n",
       "  </tbody>\n",
       "</table>\n",
       "</div>"
      ],
      "text/plain": [
       "                subspace without subspace\n",
       "(dist1, dist2)  0.784334         0.660379\n",
       "(dist2, dist1)  0.948789         0.872042"
      ]
     },
     "metadata": {},
     "output_type": "display_data"
    }
   ],
   "source": [
    "# types of clf: sgd, knn, gnb, rf, svm, ridge\n",
    "clf = input('Enter the type of classifier: ')\n",
    "\n",
    "list1 = [\"dist1\",\"dist2\"]\n",
    "index = list(permutations(list1,2))\n",
    "# print(index)\n",
    "methods = [\"subspace\",\"without subspace\"]\n",
    "data_timedf = pd.DataFrame(index=index,columns=methods)\n",
    "data_accdf = pd.DataFrame(index=index,columns=methods)\n",
    "\n",
    "for i in range(len(index)):\n",
    "    print(index[i][0],'->',index[i][1])\n",
    "    t0 = time()\n",
    "    sub = subspace(clf,data_iter[i][0],data_iter[i][1],2)\n",
    "    data_accdf.iloc[i,0] = (sub.fit_predict()*100)\n",
    "    t1 = time()\n",
    "    data_timedf.iloc[i,0] = t1-t0\n",
    "    t2 = time()\n",
    "    data_accdf.iloc[i,1] = classifier(clf,data_iter[i][0],data_iter[i][1])*100\n",
    "    t3 = time()\n",
    "    data_timedf.iloc[i,1] = t3-t2\n",
    "    \n",
    "print('Accuracy: ')\n",
    "display(data_accdf)\n",
    "print('Time elapsed: ')\n",
    "display(data_timedf)"
   ]
  },
  {
   "cell_type": "code",
   "execution_count": null,
   "id": "5dfd0b9c",
   "metadata": {},
   "outputs": [],
   "source": []
  },
  {
   "cell_type": "markdown",
   "id": "fc0ad54c",
   "metadata": {},
   "source": [
    "1. Check the diff classifier an check accuracies\n",
    "2. knn, rf try optimizing params\n",
    "3. decision boundary on source and target showing original labels as well\n",
    "4. Check the row clolumn notation while applying sa whether to take transpose or not\n",
    "5. Email the subspace source code link\n",
    "6. increase the number of features and then perform pca\n",
    "7. Check with non diagonal cov matrix\n"
   ]
  },
  {
   "cell_type": "code",
   "execution_count": null,
   "id": "65b142e3",
   "metadata": {},
   "outputs": [],
   "source": []
  }
 ],
 "metadata": {
  "kernelspec": {
   "display_name": "Python 3 (ipykernel)",
   "language": "python",
   "name": "python3"
  },
  "language_info": {
   "codemirror_mode": {
    "name": "ipython",
    "version": 3
   },
   "file_extension": ".py",
   "mimetype": "text/x-python",
   "name": "python",
   "nbconvert_exporter": "python",
   "pygments_lexer": "ipython3",
   "version": "3.9.7"
  }
 },
 "nbformat": 4,
 "nbformat_minor": 5
}
